{
 "cells": [
  {
   "cell_type": "markdown",
   "id": "fc4c3d1f-ac63-441f-843b-8948f91d4871",
   "metadata": {},
   "source": [
    "# Lab - EDA Bivariate Analysis: Diving into Amazon UK Product Insights Part II\n"
   ]
  },
  {
   "cell_type": "code",
   "execution_count": null,
   "id": "05baa488-75c3-4264-8a23-b7d33e01bdca",
   "metadata": {},
   "outputs": [],
   "source": [
    "import pandas as pd\n",
    "import os\n",
    "import glob\n",
    "import numpy as np\n",
    "from matplotlib import pyplot as plt\n",
    "import seaborn as sns\n",
    "from scipy.stats import skew, kurtosis\n",
    "from scipy.stats import chi2_contingency\n",
    "from scipy.stats.contingency import association\n",
    "from scipy.stats import pearsonr, spearmanr\n",
    "import scipy.stats as stats"
   ]
  },
  {
   "cell_type": "code",
   "execution_count": null,
   "id": "8c0a5d57-124d-4919-9915-7460c036ee25",
   "metadata": {},
   "outputs": [],
   "source": [
    "df = pd.read_csv('C:/Users/faval/Desktop/Ironhack/DataAnalytics/week5/day1/lab-eda-univariate/amz_uk_price_prediction_dataset.csv')"
   ]
  },
  {
   "cell_type": "code",
   "execution_count": null,
   "id": "3df554c8-bcb6-4888-aa33-b8f950efee81",
   "metadata": {},
   "outputs": [],
   "source": [
    "df.head()"
   ]
  },
  {
   "cell_type": "markdown",
   "id": "55836708-9dcf-424b-ab21-d8a3880d8e49",
   "metadata": {},
   "source": [
    "**PART 1:** Analyzing Best-Seller Trends Across Product Categories"
   ]
  },
  {
   "cell_type": "markdown",
   "id": "5cf68d08-a4cd-4526-b7de-cea30132a031",
   "metadata": {},
   "source": [
    "**1. Crosstab Analysis:**\r\n"
   ]
  },
  {
   "cell_type": "code",
   "execution_count": null,
   "id": "42a46e7b-462d-45ac-8ad0-1322214609ea",
   "metadata": {},
   "outputs": [],
   "source": [
    "crosstab_result = pd.crosstab(df['category'], df['isBestSeller'])\n",
    "crosstab_result"
   ]
  },
  {
   "cell_type": "code",
   "execution_count": null,
   "id": "9257c1a5-c377-4e37-9f47-e89f52f42522",
   "metadata": {},
   "outputs": [],
   "source": [
    "proportions = (df.groupby('category')['isBestSeller'].apply(lambda x: (x == True).sum() / len(x)))\n",
    "proportions_sorted = proportions.sort_values(ascending=False)\n",
    "top_10_proportions = proportions_sorted.head(10).index\n",
    "print(top_10_proportions)"
   ]
  },
  {
   "cell_type": "code",
   "execution_count": null,
   "id": "6bfb2a02-976a-491c-a6de-b38989612892",
   "metadata": {},
   "outputs": [],
   "source": [
    "top_5_proportions = proportions_sorted.head(5).index"
   ]
  },
  {
   "cell_type": "code",
   "execution_count": null,
   "id": "0c533543-da4f-49aa-b5d8-0cc9553b25a2",
   "metadata": {},
   "outputs": [],
   "source": [
    "top_10_proportions_values= proportions_sorted.head(10)\n",
    "top_10_proportions_values"
   ]
  },
  {
   "cell_type": "markdown",
   "id": "e9a75664-2aaf-47b6-ad93-776e2469a77d",
   "metadata": {},
   "source": [
    "**2. Statistical  Tests:**"
   ]
  },
  {
   "cell_type": "code",
   "execution_count": null,
   "id": "3bb1e8ee-163c-4073-ba38-811b7eb9c7ae",
   "metadata": {},
   "outputs": [],
   "source": [
    "chi2_statistic, chi2_p_value, _, _ = chi2_contingency(crosstab_result)\n",
    "chi2_statistic, chi2_p_value\n",
    "# p-value = 0.0 this result indicates that there is a statistically significant association between the two variables"
   ]
  },
  {
   "cell_type": "code",
   "execution_count": null,
   "id": "3cd748bb-8e66-418e-bda8-b5534a1ac427",
   "metadata": {},
   "outputs": [],
   "source": [
    "association(crosstab_result, method=\"cramer\")\n",
    "# The Cramér's V value of 0.122 suggests a weak association between the two variables.\n",
    "# Though statistically significant, the strength of this relationship is not very strong in practical terms."
   ]
  },
  {
   "cell_type": "markdown",
   "id": "afffc7bd-6cc6-4230-80a3-4e5c8fe5a0dd",
   "metadata": {},
   "source": [
    "**3. Visualizations:**"
   ]
  },
  {
   "cell_type": "code",
   "execution_count": null,
   "id": "6397f318-4512-4c0e-9de2-0dac5c208f35",
   "metadata": {},
   "outputs": [],
   "source": [
    "top_10_crosstab = crosstab_result.loc[top_10_proportions]\n",
    "top_10_crosstab.plot(kind=\"bar\", stacked=True, figsize=(10, 6))"
   ]
  },
  {
   "cell_type": "code",
   "execution_count": null,
   "id": "9781138a-056f-4cab-8908-897a08471afa",
   "metadata": {},
   "outputs": [],
   "source": [
    "plt.figure(figsize=(15, 6))\n",
    "sns.countplot(data=df, x='category', hue='isBestSeller', order=top_5_proportions)\n",
    "plt.xticks(rotation=45)\n",
    "plt.show()"
   ]
  },
  {
   "cell_type": "markdown",
   "id": "9a5b5d59-9676-438e-842c-17fec247c3fb",
   "metadata": {},
   "source": [
    "**PART 2:** Exploring Product Prices and Ratings Across Categories and Brands"
   ]
  },
  {
   "cell_type": "markdown",
   "id": "c4d74310-f36d-4766-82fd-311359528dfd",
   "metadata": {},
   "source": [
    "**0. Preliminary Step: Remove outliers in product prices.**"
   ]
  },
  {
   "cell_type": "code",
   "execution_count": null,
   "id": "80547f57-5857-4e91-87a4-d505ccd30792",
   "metadata": {},
   "outputs": [],
   "source": [
    "df.head()"
   ]
  },
  {
   "cell_type": "code",
   "execution_count": null,
   "id": "d911fe98-00ce-4021-b800-0fcf7edd9ccf",
   "metadata": {},
   "outputs": [],
   "source": [
    "def tukeys_test_outliers(data):\n",
    "    Q1 = data.quantile(0.25)\n",
    "    Q3 = data.quantile(0.75)\n",
    "    IQR = Q3 - Q1\n",
    "\n",
    "    # Define bounds for the outliers\n",
    "    lower_bound = Q1 - 1.5 * IQR\n",
    "    upper_bound = Q3 + 1.5 * IQR\n",
    "\n",
    "    # Identify the outliers\n",
    "    outliers = data[(data < lower_bound) | (data > upper_bound)]\n",
    "\n",
    "    return outliers"
   ]
  },
  {
   "cell_type": "code",
   "execution_count": null,
   "id": "bc4f1814-93e7-4c51-a2a4-7e29735d46d8",
   "metadata": {},
   "outputs": [],
   "source": [
    "outliers = tukeys_test_outliers(df['price'])\n",
    "print(outliers)"
   ]
  },
  {
   "cell_type": "code",
   "execution_count": null,
   "id": "a5025b2e-0e4c-40f7-bd0a-e89fbc34da77",
   "metadata": {},
   "outputs": [],
   "source": [
    "non_outliers_mask = ~df['price'].index.isin(outliers.index)\n",
    "df_cleaned = df[non_outliers_mask]\n",
    "df_cleaned[\"price\"].describe()"
   ]
  },
  {
   "cell_type": "code",
   "execution_count": null,
   "id": "eb3d8cf2-256d-4846-a2d8-eed79be34f4d",
   "metadata": {},
   "outputs": [],
   "source": [
    "plt.figure(figsize=(4, 3))\n",
    "sns.boxplot(y=df_cleaned['price'], color='mintcream')\n",
    "plt.title('Box Plot of Prices (Cleaned Data)')\n",
    "plt.ylabel('Price')\n",
    "plt.show()"
   ]
  },
  {
   "cell_type": "markdown",
   "id": "7fad5e0a-a9b2-4736-8cf5-0477f0a7cb15",
   "metadata": {},
   "source": [
    "**1. Violin Plots:**"
   ]
  },
  {
   "cell_type": "code",
   "execution_count": null,
   "id": "88995487-c892-41b2-b163-4fed76353dee",
   "metadata": {},
   "outputs": [],
   "source": [
    "top_20_categories = df_cleaned['category'].value_counts().head(20).index\n",
    "print(top_20_categories)"
   ]
  },
  {
   "cell_type": "code",
   "execution_count": null,
   "id": "00866180-1794-4f7f-b79f-d4bd00acf365",
   "metadata": {},
   "outputs": [],
   "source": [
    "df_top_20 = df_cleaned[df_cleaned['category'].isin(top_20_categories)]"
   ]
  },
  {
   "cell_type": "code",
   "execution_count": null,
   "id": "091071c0-7d9a-4fe8-8d66-60720af3ab60",
   "metadata": {},
   "outputs": [],
   "source": [
    "plt.figure(figsize=(16, 8))\n",
    "sns.violinplot(data=df_top_20, x='category', y='price', palette=\"coolwarm\", hue='category', dodge=False)\n",
    "plt.xticks(rotation=45)\n",
    "plt.show()"
   ]
  },
  {
   "cell_type": "code",
   "execution_count": null,
   "id": "65fa9466-b1e3-49c4-9725-37b779a4ab84",
   "metadata": {},
   "outputs": [],
   "source": [
    "median_price_by_category = df_cleaned.groupby('category')['price'].median()\n",
    "median_price_sorted = median_price_by_category.sort_values(ascending=False)\n",
    "print(median_price_sorted)\n",
    "# Product category that tends to have the highest median price is: Desktop PCs with median price of €74.00"
   ]
  },
  {
   "cell_type": "markdown",
   "id": "3c08cd03-584b-41b9-a775-86c1756e9138",
   "metadata": {},
   "source": [
    "**2. Bar Charts:**"
   ]
  },
  {
   "cell_type": "code",
   "execution_count": null,
   "id": "b54abaa8-a613-4032-b5db-76488834c531",
   "metadata": {},
   "outputs": [],
   "source": [
    "top_10_categories = df_cleaned['category'].value_counts().head(10).index\n",
    "df_top_10 = df_cleaned[df_cleaned['category'].isin(top_10_categories)]\n",
    "mean_price_by_category = df_top_10.groupby('category')['price'].mean()"
   ]
  },
  {
   "cell_type": "code",
   "execution_count": null,
   "id": "2d2dd9c2-470c-438b-8a00-663f134c3906",
   "metadata": {},
   "outputs": [],
   "source": [
    "plt.figure(figsize=(15, 6))\n",
    "mean_price_by_category.plot(kind='bar', color='lavender')\n",
    "plt.xticks(rotation=45);"
   ]
  },
  {
   "cell_type": "code",
   "execution_count": null,
   "id": "5ddd70c4-e46f-455e-9bae-e95d1327f6e1",
   "metadata": {},
   "outputs": [],
   "source": [
    "mean_price_by_category = df_cleaned.groupby('category')['price'].mean()\n",
    "mean_price_by_category = mean_price_by_category.sort_values(ascending=False)\n",
    "print(mean_price_by_category)\n",
    "# Motherboards with a mean price of 68.77 commands the highest average price"
   ]
  },
  {
   "cell_type": "markdown",
   "id": "bb33e3ba-eec7-4435-be07-3dfb48ff7f80",
   "metadata": {},
   "source": [
    "**3. Box Plots:**"
   ]
  },
  {
   "cell_type": "code",
   "execution_count": null,
   "id": "d5bc7034-e317-413a-ad5e-c054ac457cf4",
   "metadata": {},
   "outputs": [],
   "source": [
    "plt.figure(figsize=(16, 8))\n",
    "sns.boxplot(x='category', y='stars', data=df_top_10, hue='category', palette='pastel', dodge=False, legend=False)\n",
    "plt.xticks(rotation=45)\n",
    "plt.show()"
   ]
  },
  {
   "cell_type": "code",
   "execution_count": null,
   "id": "80d6b2ed-6921-4a76-adec-e990c5e45751",
   "metadata": {},
   "outputs": [],
   "source": [
    "median_stars_by_category = df_cleaned.groupby('category')['stars'].median()\n",
    "median_stars_sorted = median_stars_by_category.sort_values(ascending=False)\n",
    "print(median_stars_sorted)\n",
    "# Product category that tends to have the highest median rating is: Computer Memory with median rating of 4.7"
   ]
  },
  {
   "cell_type": "markdown",
   "id": "e058f103-5dc7-436b-a2c2-a741a5a21d39",
   "metadata": {},
   "source": [
    "**PART 3:** Investigating the Interplay Between Product Prices and Ratings"
   ]
  },
  {
   "cell_type": "markdown",
   "id": "46baebaf-50b2-4083-a8b8-3a0a60bbec7b",
   "metadata": {},
   "source": [
    "**1. Correlation Coefficients:**"
   ]
  },
  {
   "cell_type": "code",
   "execution_count": null,
   "id": "ad35bd2b-5d03-47b9-90f9-ae2ca255440e",
   "metadata": {},
   "outputs": [],
   "source": [
    "pearson_corr, pearson_p = pearsonr(df['price'], df['stars'])\n",
    "print(f\"Pearson Correlation: {pearson_corr}, p-value: {pearson_p}\")\n",
    "# A coefficient of -0.125 suggests a very weak negative linear correlation. "
   ]
  },
  {
   "cell_type": "code",
   "execution_count": null,
   "id": "b1a93dd0-2bda-43e2-b179-1fd36ef20b09",
   "metadata": {},
   "outputs": [],
   "source": [
    "spearman_corr, spearman_p = spearmanr(df['price'], df['stars'])\n",
    "print(f\"Spearman Correlation: {spearman_corr}, p-value: {spearman_p}\")\n",
    "# A coefficient of -0.133 also indicates a very weak negative monotonic relationship."
   ]
  },
  {
   "cell_type": "markdown",
   "id": "092bf0e4-c179-4259-9f3b-d999f06b4daa",
   "metadata": {},
   "source": [
    "**2. Visualizations:**"
   ]
  },
  {
   "cell_type": "code",
   "execution_count": null,
   "id": "14706cf3-bca0-4aa6-948c-44db4c473409",
   "metadata": {},
   "outputs": [],
   "source": [
    "plt.figure(figsize=(10, 6))\n",
    "sns.scatterplot(x='price', y='stars', data=df, alpha=0.5, color='teal')\n",
    "plt.xlim(0, 100)\n",
    "plt.show()"
   ]
  },
  {
   "cell_type": "code",
   "execution_count": null,
   "id": "a1f6badf-85db-4601-ad74-7fd3e7d29f76",
   "metadata": {},
   "outputs": [],
   "source": [
    "df.info()\n",
    "# I dont consider\"uid\" nor \"boughtInLastMonth\" to be numerical."
   ]
  },
  {
   "cell_type": "code",
   "execution_count": null,
   "id": "ea0abdb9-2355-49ee-ad77-a081b1a2ecd8",
   "metadata": {},
   "outputs": [],
   "source": [
    "numerical_df = df[['stars', 'reviews', 'price']]\n",
    "correlation_matrix = numerical_df.corr()\n",
    "plt.figure(figsize=(8, 6))\n",
    "sns.heatmap(correlation_matrix, annot=True, cmap='Pastel1', fmt=\".2f\", linewidths=0.5, square=True)\n",
    "plt.title('Correlation Heatmap for Numerical Features')\n",
    "plt.show()"
   ]
  },
  {
   "cell_type": "code",
   "execution_count": null,
   "id": "f5e431e7-35c5-4543-923c-6b9eb31eaf9b",
   "metadata": {},
   "outputs": [],
   "source": [
    "plt.figure(figsize=(8, 6))\n",
    "stats.probplot(df['price'], dist=\"norm\", plot=plt)\n",
    "plt.title('Q-Q Plot for Product Prices')\n",
    "plt.show()"
   ]
  },
  {
   "cell_type": "code",
   "execution_count": null,
   "id": "0ed0d976-c66a-457b-8175-aefc9bcb1ff7",
   "metadata": {},
   "outputs": [],
   "source": [
    "plt.figure(figsize=(8, 6))\n",
    "stats.probplot(df_cleaned['price'], dist=\"norm\", plot=plt)\n",
    "plt.title('Q-Q Plot for Product Prices without outliers')\n",
    "plt.show()"
   ]
  },
  {
   "cell_type": "code",
   "execution_count": null,
   "id": "d8b74a6a-be20-4873-85fa-8b4136ad1ba0",
   "metadata": {},
   "outputs": [],
   "source": []
  }
 ],
 "metadata": {
  "kernelspec": {
   "display_name": "Python 3 (ipykernel)",
   "language": "python",
   "name": "python3"
  },
  "language_info": {
   "codemirror_mode": {
    "name": "ipython",
    "version": 3
   },
   "file_extension": ".py",
   "mimetype": "text/x-python",
   "name": "python",
   "nbconvert_exporter": "python",
   "pygments_lexer": "ipython3",
   "version": "3.12.3"
  }
 },
 "nbformat": 4,
 "nbformat_minor": 5
}
